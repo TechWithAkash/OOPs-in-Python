{
 "cells": [
  {
   "cell_type": "markdown",
   "id": "a424bba7-102a-4cf9-ba87-c0fa18f44d11",
   "metadata": {},
   "source": [
    "Q1. Explain Class and Object with respect to Object-Oriented Programming. Give a suitable example."
   ]
  },
  {
   "cell_type": "markdown",
   "id": "08c99d86-d2d9-4856-aff9-b47cab440d15",
   "metadata": {},
   "source": [
    "==>A class is a user-defined blueprint or prototype from which objects are created. Classes provide a means of bundling data and functionality together. Creating a new class creates a new type of object, allowing new instances of that type to be made. Each class instance can have attributes attached to it for maintaining its state. Class instances can also have methods (defined by their class) for modifying their state.\n",
    "\n",
    "An Object is an instance of a Class. A class is like a blueprint while an instance is a copy of the class with actual values"
   ]
  },
  {
   "cell_type": "code",
   "execution_count": 2,
   "id": "c470eada-97e8-4aaa-8187-f4e32ad9031c",
   "metadata": {},
   "outputs": [],
   "source": [
    "#Example of class and object\n",
    "\n",
    "class pwskills:\n",
    "    \n",
    "    def __init__(self, course_name , course_price):\n",
    "        \n",
    "        self.course_name = course_name\n",
    "        self.course_price= course_price"
   ]
  },
  {
   "cell_type": "code",
   "execution_count": 5,
   "id": "0be08eaf-7b25-4052-a910-ad52a3faff14",
   "metadata": {},
   "outputs": [],
   "source": [
    "pw = pwskills( \"Data Science Master 2.0\", 3500)"
   ]
  },
  {
   "cell_type": "code",
   "execution_count": 6,
   "id": "cb167955-a4e6-4b2e-af7a-376846b250e0",
   "metadata": {},
   "outputs": [
    {
     "data": {
      "text/plain": [
       "'Data Science Master 2.0'"
      ]
     },
     "execution_count": 6,
     "metadata": {},
     "output_type": "execute_result"
    }
   ],
   "source": [
    "pw.course_name"
   ]
  },
  {
   "cell_type": "code",
   "execution_count": 7,
   "id": "8c473f3e-3d71-4d72-b0a5-8d026b3f3ce2",
   "metadata": {},
   "outputs": [
    {
     "data": {
      "text/plain": [
       "3500"
      ]
     },
     "execution_count": 7,
     "metadata": {},
     "output_type": "execute_result"
    }
   ],
   "source": [
    "pw.course_price"
   ]
  },
  {
   "cell_type": "markdown",
   "id": "41b87c3f-31e1-49ac-9c90-30397c5f45cf",
   "metadata": {},
   "source": [
    "Q2. Name the four pillars of OOPs.\n",
    "\n",
    "==>These are :-\n",
    "1)Polymorphism\n",
    "2)Data Abstraction\n",
    "3)Encapsulation\n",
    "4)Inheritance"
   ]
  },
  {
   "cell_type": "markdown",
   "id": "50d9d162-fccf-4658-8428-9b3967f5a7b2",
   "metadata": {},
   "source": [
    "Q3. Explain why the __init__() function is used. Give a suitable example."
   ]
  },
  {
   "cell_type": "markdown",
   "id": "e9b47a09-11c8-453d-8a96-0431d9daab0b",
   "metadata": {},
   "source": [
    "==>__init__()   is a special python method that runs whenever a new object is created. These types of functions are used to initialize the attributes of that class, E.g., if the class is Person, then the attributes will be name, age, etc."
   ]
  },
  {
   "cell_type": "code",
   "execution_count": 8,
   "id": "e61ebfff-bb52-481c-9ca6-b0bc3a8a1c87",
   "metadata": {},
   "outputs": [],
   "source": [
    "#Example of init finction \n",
    "\n",
    "class person:\n",
    "    \n",
    "    def __init__(self , name, age , height):\n",
    "        \n",
    "        self.name = name\n",
    "        self.age = age\n",
    "        self.height = height"
   ]
  },
  {
   "cell_type": "code",
   "execution_count": 9,
   "id": "d750c795-627b-4830-aeb2-234989164bca",
   "metadata": {},
   "outputs": [],
   "source": [
    "p1 = person(\"Akash\", 20 , 5.2)"
   ]
  },
  {
   "cell_type": "code",
   "execution_count": 11,
   "id": "36943c42-122e-49f5-8ef4-b266cd5d665e",
   "metadata": {},
   "outputs": [
    {
     "data": {
      "text/plain": [
       "'Akash'"
      ]
     },
     "execution_count": 11,
     "metadata": {},
     "output_type": "execute_result"
    }
   ],
   "source": [
    "p1.name\n",
    "\n"
   ]
  },
  {
   "cell_type": "code",
   "execution_count": 12,
   "id": "fbf59b72-d308-4548-9d74-9a82bd7c6aa6",
   "metadata": {},
   "outputs": [
    {
     "data": {
      "text/plain": [
       "20"
      ]
     },
     "execution_count": 12,
     "metadata": {},
     "output_type": "execute_result"
    }
   ],
   "source": [
    "p1.age"
   ]
  },
  {
   "cell_type": "code",
   "execution_count": 13,
   "id": "87804d2a-5da3-457b-aa06-c0cfaf18288b",
   "metadata": {},
   "outputs": [
    {
     "data": {
      "text/plain": [
       "5.2"
      ]
     },
     "execution_count": 13,
     "metadata": {},
     "output_type": "execute_result"
    }
   ],
   "source": [
    "p1.height"
   ]
  },
  {
   "cell_type": "code",
   "execution_count": null,
   "id": "440e5a25-8f3a-4e57-9292-8d4e6003f243",
   "metadata": {},
   "outputs": [],
   "source": []
  },
  {
   "cell_type": "markdown",
   "id": "c73edb17-8abf-4ea0-91f3-02bd66285a75",
   "metadata": {},
   "source": [
    "Q4. Why self is used in OOPs?\n",
    "\n",
    "==>The  \"self\"  is used to represent the instance of the class. With this keyword, you can access the attributes and methods of the class in python. It binds the attributes with the given arguments. The reason why we use self is that Python does not use the '@' syntax to refer to instance attributes."
   ]
  },
  {
   "cell_type": "code",
   "execution_count": null,
   "id": "c25c4183-d2e4-4fc0-a3bf-ce09dfa1b482",
   "metadata": {},
   "outputs": [],
   "source": []
  },
  {
   "cell_type": "markdown",
   "id": "791dfa60-de20-4d16-aded-168e1aa751f3",
   "metadata": {},
   "source": [
    "Q5. What is inheritance? Give an example for each type of inheritance.\n",
    "\n",
    "==>\n",
    "It is an Mechanism of inheriting the character and properties of another class is known as inheritance.\n",
    "\n",
    "There are five type of inheritance in Python:\n",
    "1)Single Inheritance\n",
    "2)Multiple Inheritance\n",
    "3)Multilevel Inheritance \n",
    "4)Hierarchical Inheritance\n",
    "5)Hybrid Inheritance: \n"
   ]
  },
  {
   "cell_type": "code",
   "execution_count": 17,
   "id": "9a646a4f-4abf-4ebc-afa1-6b9c0464063a",
   "metadata": {},
   "outputs": [],
   "source": [
    "#Example of Singel inheritance\n",
    "class parent:\n",
    "    \n",
    "    def func1(self):\n",
    "          print(\"This function is in parent class.\")"
   ]
  },
  {
   "cell_type": "code",
   "execution_count": 18,
   "id": "3ac2efcd-cdb7-49fb-990f-8a647c7241d9",
   "metadata": {},
   "outputs": [],
   "source": [
    "class child(parent):\n",
    "     \n",
    "    def func2(self):\n",
    "          print(\"This function is in child class.\")"
   ]
  },
  {
   "cell_type": "code",
   "execution_count": 19,
   "id": "baf0cb24-578d-4adc-b45a-a3e375c62a3b",
   "metadata": {},
   "outputs": [],
   "source": [
    "object_child = child()"
   ]
  },
  {
   "cell_type": "code",
   "execution_count": 20,
   "id": "50fc3ca0-3c1a-4728-87e0-1322e1393484",
   "metadata": {},
   "outputs": [
    {
     "name": "stdout",
     "output_type": "stream",
     "text": [
      "This function is in child class.\n"
     ]
    }
   ],
   "source": [
    "object_child.func2()"
   ]
  },
  {
   "cell_type": "code",
   "execution_count": 21,
   "id": "7955ef32-04e7-4f22-9f27-c672ee64911a",
   "metadata": {},
   "outputs": [
    {
     "name": "stdout",
     "output_type": "stream",
     "text": [
      "This function is in parent class.\n"
     ]
    }
   ],
   "source": [
    "object_child.func1()"
   ]
  },
  {
   "cell_type": "code",
   "execution_count": 38,
   "id": "4b0b425b-2701-41d2-a4cc-1dee708b14a0",
   "metadata": {},
   "outputs": [],
   "source": [
    "#Example of mutipel inheritance\n",
    "class mother:\n",
    "    \n",
    "    def func1(self):\n",
    "          print(self.mothername)\n",
    "    \n",
    "    "
   ]
  },
  {
   "cell_type": "code",
   "execution_count": 39,
   "id": "7a8442b0-bcc4-49dc-9cf7-a0b983e9845c",
   "metadata": {},
   "outputs": [],
   "source": [
    "class father:\n",
    "    \n",
    "    def func2(self):\n",
    "          print(self.fathername)"
   ]
  },
  {
   "cell_type": "code",
   "execution_count": 40,
   "id": "2f31faf2-0ddc-40f3-a69a-9e06f05c6f51",
   "metadata": {},
   "outputs": [],
   "source": [
    "class child(mother ,father):\n",
    "    def parents(self):\n",
    "        print(\"Father :\", self.fathername)\n",
    "        print(\"Mother :\", self.mothername)\n",
    " \n",
    "    "
   ]
  },
  {
   "cell_type": "code",
   "execution_count": 41,
   "id": "b3544118-e0df-498e-8eab-2a7b05b3930a",
   "metadata": {},
   "outputs": [],
   "source": [
    "ram = child()"
   ]
  },
  {
   "cell_type": "code",
   "execution_count": 44,
   "id": "bd4907ce-e424-4333-8a4f-26bd2f6bc4ff",
   "metadata": {},
   "outputs": [],
   "source": [
    "ram.fathername = \"John\"\n",
    "ram.mothername = \"sita\""
   ]
  },
  {
   "cell_type": "code",
   "execution_count": 45,
   "id": "393a6db8-a0e0-4d02-8725-b18d87b88d65",
   "metadata": {},
   "outputs": [
    {
     "name": "stdout",
     "output_type": "stream",
     "text": [
      "Father : John\n",
      "Mother : sita\n"
     ]
    }
   ],
   "source": [
    "ram.parents()"
   ]
  },
  {
   "cell_type": "code",
   "execution_count": 48,
   "id": "53a543b6-824e-41c0-9e29-3707123790a8",
   "metadata": {},
   "outputs": [],
   "source": [
    "#example of multilevel inheritance\n",
    "\n",
    "class grandfather:\n",
    "    \n",
    "    def func1(self):\n",
    "          print(self.grandfathername)\n",
    "    \n",
    "    "
   ]
  },
  {
   "cell_type": "code",
   "execution_count": 49,
   "id": "86fb3a32-ae5c-4e3d-b2b8-197e53106a98",
   "metadata": {},
   "outputs": [],
   "source": [
    "class father(grandfather):\n",
    "    \n",
    "    def func2(self):\n",
    "          print(self.fathername)"
   ]
  },
  {
   "cell_type": "code",
   "execution_count": 50,
   "id": "bacb5a6d-19a9-49f1-9fa8-2c0acc183a89",
   "metadata": {},
   "outputs": [],
   "source": [
    "class child(father):\n",
    "    def parents(self):\n",
    "        print(\"GrandFather :\", self.fathername)\n",
    "        print(\"Father :\", self.fathername)\n",
    " \n",
    "    "
   ]
  },
  {
   "cell_type": "code",
   "execution_count": 51,
   "id": "00a789cf-b06c-4251-9651-1bdec0841c33",
   "metadata": {},
   "outputs": [],
   "source": [
    "f1  = father() "
   ]
  },
  {
   "cell_type": "code",
   "execution_count": 55,
   "id": "2a4c82e5-0949-4060-8016-590999593205",
   "metadata": {},
   "outputs": [],
   "source": [
    "f1.grandfathername = \"Lal Singh\"\n"
   ]
  },
  {
   "cell_type": "code",
   "execution_count": 56,
   "id": "48bc5cef-1974-44ad-8fbf-123d94bcfc5c",
   "metadata": {},
   "outputs": [
    {
     "name": "stdout",
     "output_type": "stream",
     "text": [
      "Lal Singh\n"
     ]
    }
   ],
   "source": [
    "f1.func1()"
   ]
  },
  {
   "cell_type": "code",
   "execution_count": 58,
   "id": "323e43ae-c1fe-4b95-b503-216ec4f47fb6",
   "metadata": {},
   "outputs": [],
   "source": [
    "c1 = child()\n"
   ]
  },
  {
   "cell_type": "code",
   "execution_count": null,
   "id": "d652b7ff-e30a-444c-a1d3-9d8a70df9af7",
   "metadata": {},
   "outputs": [],
   "source": []
  }
 ],
 "metadata": {
  "kernelspec": {
   "display_name": "Python 3 (ipykernel)",
   "language": "python",
   "name": "python3"
  },
  "language_info": {
   "codemirror_mode": {
    "name": "ipython",
    "version": 3
   },
   "file_extension": ".py",
   "mimetype": "text/x-python",
   "name": "python",
   "nbconvert_exporter": "python",
   "pygments_lexer": "ipython3",
   "version": "3.10.8"
  }
 },
 "nbformat": 4,
 "nbformat_minor": 5
}
